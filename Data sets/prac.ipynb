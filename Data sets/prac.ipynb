{
 "cells": [
  {
   "cell_type": "code",
   "execution_count": null,
   "id": "9f3b211e",
   "metadata": {},
   "outputs": [],
   "source": [
    "print(\"testing push func\")"
   ]
  },
  {
   "cell_type": "code",
   "execution_count": null,
   "id": "06b80729",
   "metadata": {},
   "outputs": [],
   "source": []
  }
 ],
 "metadata": {
  "kernelspec": {
   "display_name": "Python 3",
   "language": "python",
   "name": "python3"
  },
  "language_info": {
   "name": "python",
   "version": "3.13.3"
  }
 },
 "nbformat": 4,
 "nbformat_minor": 5
}
