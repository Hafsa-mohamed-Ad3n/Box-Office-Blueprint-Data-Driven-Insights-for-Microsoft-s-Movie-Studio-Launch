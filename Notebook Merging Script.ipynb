{
 "cells": [
  {
   "cell_type": "code",
   "execution_count": null,
   "id": "3823b6ae",
   "metadata": {},
   "outputs": [
    {
     "name": "stdout",
     "output_type": "stream",
     "text": [
      "✅ Done! Merged notebook saved at:\n",
      "C:\\Users\\A808865\\Desktop\\Assignments\\Python merge testing\\Final merged file.ipynb\n"
     ]
    },
    {
     "name": "stderr",
     "output_type": "stream",
     "text": [
      "c:\\Users\\A808865\\Python\\Lib\\site-packages\\nbformat\\__init__.py:129: MissingIDFieldWarning: Code cell is missing an id field, this will become a hard error in future nbformat versions. You may want to use `normalize()` on your notebooks before validations (available since nbformat 5.1.4). Previous versions of nbformat are fixing this issue transparently, and will stop doing so in the future.\n",
      "  validate(nb)\n"
     ]
    }
   ],
   "source": [
    "# This is the script we used to merge multiple team notebooks into onenin the order of workflow contribution.\n",
    "\n",
    "import nbformat\n",
    "\n",
    "# List of notebook files to merge (in order)\n",
    "files_to_merge = [\n",
    "    r\"C:\\Users\\A808865\\Desktop\\Assignments\\Python merge testing\\Box_Office.ipynb\",\n",
    "    r\"C:\\Users\\A808865\\Desktop\\Assignments\\Python merge testing\\BOM.Movie_grossNotebook.ipynb\",\n",
    "    r\"C:\\Users\\A808865\\Desktop\\Assignments\\Python merge testing\\tmdb movies.ipynb\",\n",
    "    r\"C:\\Users\\A808865\\Desktop\\Assignments\\Python merge testing\\Database.ipynb\"    \n",
    "]\n",
    "\n",
    "# Creating a new notebook with all cells from the individual notebooks\n",
    "merged_notebook = nbformat.v4.new_notebook()\n",
    "all_cells = []\n",
    "\n",
    "# looping through each notebook and collect its cells\n",
    "for file_path in files_to_merge:\n",
    "    with open(file_path, 'r', encoding='utf-8') as f:\n",
    "        notebook = nbformat.read(f, as_version=4)\n",
    "        all_cells.extend(notebook.cells)\n",
    "\n",
    "# Adding all collected cells to the new notebook\n",
    "merged_notebook.cells = all_cells\n",
    "\n",
    "# Saving the new merged notebook\n",
    "output_path = r\"C:\\Users\\A808865\\Desktop\\Assignments\\Python merge testing\\Final merged file.ipynb\"\n",
    "with open(output_path, 'w', encoding='utf-8') as f:\n",
    "    nbformat.write(merged_notebook, f)\n",
    "\n",
    "print(\"✅ Done! Merged notebook saved at:\")\n",
    "print(output_path)\n"
   ]
  },
  {
   "cell_type": "code",
   "execution_count": null,
   "id": "e7fcbede",
   "metadata": {},
   "outputs": [],
   "source": []
  }
 ],
 "metadata": {
  "kernelspec": {
   "display_name": "base",
   "language": "python",
   "name": "python3"
  },
  "language_info": {
   "codemirror_mode": {
    "name": "ipython",
    "version": 3
   },
   "file_extension": ".py",
   "mimetype": "text/x-python",
   "name": "python",
   "nbconvert_exporter": "python",
   "pygments_lexer": "ipython3",
   "version": "3.11.5"
  }
 },
 "nbformat": 4,
 "nbformat_minor": 5
}
